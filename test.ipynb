{
 "cells": [
  {
   "cell_type": "code",
   "execution_count": 43,
   "metadata": {},
   "outputs": [],
   "source": [
    "from sklearn.preprocessing import MinMaxScaler,StandardScaler\n",
    "from sklearn.preprocessing import OneHotEncoder,LabelEncoder\n",
    "import matplotlib.pyplot as plt\n",
    "import pandas as pd\n",
    "import numpy as np\n",
    "import re"
   ]
  },
  {
   "cell_type": "code",
   "execution_count": null,
   "metadata": {},
   "outputs": [],
   "source": [
    "data = pd.read_csv(\"./dataset/NIJ_s_Recidivism_Datasets.csv\")\n",
    "column_name = 'Race'\n",
    "new_col_name = []\n",
    "ohe = OneHotEncoder(categories='auto')\n",
    "result = ohe.fit_transform(data.loc[:,column_name].values.reshape(-1,1)).toarray()\n",
    "encoding_col = ohe.get_feature_names_out()\n",
    "for each in encoding_col:\n",
    "    res_match = re.search(r\"_(.*)\",each)\n",
    "    tmp = column_name + '_' + res_match.groups()[0]\n",
    "    new_col_name += [tmp]\n",
    "new_col = pd.DataFrame(result)\n",
    "new_col.columns = new_col_name\n",
    "data.drop([column_name],axis=1,inplace=True)\n",
    "data = pd.concat([data,new_col],axis=1)\n",
    "data\n"
   ]
  },
  {
   "cell_type": "code",
   "execution_count": null,
   "metadata": {},
   "outputs": [],
   "source": [
    "data = pd.read_csv(\"./dataset/NIJ_s_Recidivism_Datasets.csv\")\n",
    "selected_column = 'Race'\n",
    "le = LabelEncoder()\n",
    "data.loc[:,selected_column] = le.fit_transform(data.loc[:,selected_column])\n",
    "data\n"
   ]
  },
  {
   "cell_type": "code",
   "execution_count": 53,
   "metadata": {},
   "outputs": [
    {
     "data": {
      "text/plain": [
       "dtype('O')"
      ]
     },
     "execution_count": 53,
     "metadata": {},
     "output_type": "execute_result"
    }
   ],
   "source": [
    "data = pd.read_csv(\"./dataset/NIJ_s_Recidivism_Datasets.csv\")\n",
    "selected_column = 'Supervision_Level_First'"
   ]
  }
 ],
 "metadata": {
  "kernelspec": {
   "display_name": "pytorch_gpu310",
   "language": "python",
   "name": "python3"
  },
  "language_info": {
   "codemirror_mode": {
    "name": "ipython",
    "version": 3
   },
   "file_extension": ".py",
   "mimetype": "text/x-python",
   "name": "python",
   "nbconvert_exporter": "python",
   "pygments_lexer": "ipython3",
   "version": "3.10.9"
  },
  "orig_nbformat": 4,
  "vscode": {
   "interpreter": {
    "hash": "f1d4dc7ec84b5b799508ae623d7694990ea00e33ac2e686ce019db7762dd6a20"
   }
  }
 },
 "nbformat": 4,
 "nbformat_minor": 2
}
